{
  "nbformat": 4,
  "nbformat_minor": 0,
  "metadata": {
    "colab": {
      "provenance": [],
      "authorship_tag": "ABX9TyPC/P/n30P/yBYr92Gx+hBH",
      "include_colab_link": true
    },
    "kernelspec": {
      "name": "python3",
      "display_name": "Python 3"
    },
    "language_info": {
      "name": "python"
    }
  },
  "cells": [
    {
      "cell_type": "markdown",
      "metadata": {
        "id": "view-in-github",
        "colab_type": "text"
      },
      "source": [
        "<a href=\"https://colab.research.google.com/github/arjunp17/Talk-to-OneFootball/blob/main/talk_to_OneFootball.ipynb\" target=\"_parent\"><img src=\"https://colab.research.google.com/assets/colab-badge.svg\" alt=\"Open In Colab\"/></a>"
      ]
    },
    {
      "cell_type": "markdown",
      "source": [
        "Set-up python packages"
      ],
      "metadata": {
        "id": "AbMk1GmzhyYq"
      }
    },
    {
      "cell_type": "code",
      "execution_count": null,
      "metadata": {
        "id": "_0ig8pPEeuH5"
      },
      "outputs": [],
      "source": [
        "!pip install python-dotenv\n",
        "!pip install openai\n",
        "!pip install --upgrade langchain\n",
        "!pip install unstructured\n",
        "!pip install docarray\n",
        "!pip install tiktoken"
      ]
    },
    {
      "cell_type": "markdown",
      "source": [
        "Import python packages"
      ],
      "metadata": {
        "id": "BxkWYzU6h2eU"
      }
    },
    {
      "cell_type": "code",
      "source": [
        "import os\n",
        "import openai\n",
        "from langchain.chat_models import ChatOpenAI\n",
        "from langchain.document_loaders import UnstructuredURLLoader\n",
        "from langchain.indexes import VectorstoreIndexCreator\n",
        "from langchain.vectorstores import DocArrayInMemorySearch\n",
        "from IPython.display import display, Markdown"
      ],
      "metadata": {
        "id": "IyA6ze3dfwXl"
      },
      "execution_count": 3,
      "outputs": []
    },
    {
      "cell_type": "markdown",
      "source": [
        "Set OpenAI API Key"
      ],
      "metadata": {
        "id": "4h3rkhjDh762"
      }
    },
    {
      "cell_type": "code",
      "source": [
        "os.environ['OPENAI_API_KEY'] = 'YOUR-OPENAI-API'\n",
        "openai.api_key  = os.getenv('OPENAI_API_KEY')"
      ],
      "metadata": {
        "id": "D0JpkDRSfdXb"
      },
      "execution_count": 4,
      "outputs": []
    },
    {
      "cell_type": "markdown",
      "source": [
        "OneFootball urls"
      ],
      "metadata": {
        "id": "ugjoM1UtiAE6"
      }
    },
    {
      "cell_type": "code",
      "source": [
        "url_list = [\"https://onefootball.com/en/home\",\n",
        "       \"https://onefootball.com/en/team/barcelona-5\"]"
      ],
      "metadata": {
        "id": "2DAOUqW4gCqQ"
      },
      "execution_count": 5,
      "outputs": []
    },
    {
      "cell_type": "markdown",
      "source": [
        "Loading URL data"
      ],
      "metadata": {
        "id": "s6RlglvEiGE0"
      }
    },
    {
      "cell_type": "code",
      "source": [
        "loader = UnstructuredURLLoader(urls=url_list)"
      ],
      "metadata": {
        "id": "JSvfXo1TfuZC"
      },
      "execution_count": 6,
      "outputs": []
    },
    {
      "cell_type": "markdown",
      "source": [
        "Creating vector database"
      ],
      "metadata": {
        "id": "W5a-7AmziI8z"
      }
    },
    {
      "cell_type": "code",
      "source": [
        "index = VectorstoreIndexCreator(vectorstore_cls=DocArrayInMemorySearch).from_loaders([loader])"
      ],
      "metadata": {
        "id": "DZaZgbungbxz"
      },
      "execution_count": null,
      "outputs": []
    },
    {
      "cell_type": "markdown",
      "source": [
        "Defining LLM Model"
      ],
      "metadata": {
        "id": "F8pCxeoviNIj"
      }
    },
    {
      "cell_type": "code",
      "source": [
        "llm = ChatOpenAI(temperature = 0.0)"
      ],
      "metadata": {
        "id": "3gEqRE6ZgnuM"
      },
      "execution_count": 8,
      "outputs": []
    },
    {
      "cell_type": "markdown",
      "source": [
        "Text query"
      ],
      "metadata": {
        "id": "MosK8XSgiRCA"
      }
    },
    {
      "cell_type": "code",
      "source": [
        "query =\"What are the transfer stories of FC Barcelona?\""
      ],
      "metadata": {
        "id": "RZQmAsfogjxp"
      },
      "execution_count": 15,
      "outputs": []
    },
    {
      "cell_type": "markdown",
      "source": [
        "Query based search and retrieval"
      ],
      "metadata": {
        "id": "lhaY5ge2iVFj"
      }
    },
    {
      "cell_type": "code",
      "source": [
        "response = index.query(query, llm=llm)\n",
        "display(Markdown(response))"
      ],
      "metadata": {
        "colab": {
          "base_uri": "https://localhost:8080/",
          "height": 98
        },
        "id": "L-Xug-QugtiF",
        "outputId": "95ec1635-9a47-49b3-fc20-aa94c5216de7"
      },
      "execution_count": 16,
      "outputs": [
        {
          "output_type": "display_data",
          "data": {
            "text/plain": [
              "<IPython.core.display.Markdown object>"
            ],
            "text/markdown": "FC Barcelona is currently linked with several transfer stories. They are in pursuit of a right-back and a midfielder. The options for a right-back, such as Joao Cancelo and Juan Foyth, seem to be unavailable. In midfield, there is interest in Oriol Romeu. Barcelona has also shown interest in Turkish teenage sensation Arda Guler from Fenerbahce. Additionally, there are reports that Barcelona attacker Ferran Torres is gathering interest from the Premier League. Barcelona is hoping to announce their third summer signing soon, and they have been linked with young right-back Ivan Fresneda."
          },
          "metadata": {}
        }
      ]
    }
  ]
}